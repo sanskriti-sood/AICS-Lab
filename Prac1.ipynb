{
  "nbformat": 4,
  "nbformat_minor": 0,
  "metadata": {
    "colab": {
      "provenance": [],
      "authorship_tag": "ABX9TyOVHaFufwLAWQkF2cJDBXHc",
      "include_colab_link": true
    },
    "kernelspec": {
      "name": "python3",
      "display_name": "Python 3"
    },
    "language_info": {
      "name": "python"
    }
  },
  "cells": [
    {
      "cell_type": "markdown",
      "metadata": {
        "id": "view-in-github",
        "colab_type": "text"
      },
      "source": [
        "<a href=\"https://colab.research.google.com/github/sanskriti-sood/AICS-Lab/blob/main/Prac1.ipynb\" target=\"_parent\"><img src=\"https://colab.research.google.com/assets/colab-badge.svg\" alt=\"Open In Colab\"/></a>"
      ]
    },
    {
      "cell_type": "code",
      "execution_count": 1,
      "metadata": {
        "id": "QiTLOy4hAR_n"
      },
      "outputs": [],
      "source": [
        "### LISTS "
      ]
    },
    {
      "cell_type": "code",
      "source": [
        "my_list = ['H', 'E', 'L', 'L', 'O', 'W','O','R', 'L', 'D']\n",
        "print(my_list[0])\n",
        "print(my_list[2])\n",
        "print(my_list[4])\n",
        "#List Indexing\n",
        "print(my_list)"
      ],
      "metadata": {
        "colab": {
          "base_uri": "https://localhost:8080/"
        },
        "id": "9hfB5-eAAWqj",
        "outputId": "1a7862f3-054f-46b8-ce9c-98addd6e9534"
      },
      "execution_count": 3,
      "outputs": [
        {
          "output_type": "stream",
          "name": "stdout",
          "text": [
            "H\n",
            "L\n",
            "O\n",
            "['H', 'E', 'L', 'L', 'O', 'W', 'O', 'R', 'L', 'D']\n"
          ]
        }
      ]
    },
    {
      "cell_type": "code",
      "source": [
        "print(\"The length of the list is:\",len(my_list))\n",
        "print(\"The elements of the list are :\",my_list[:])"
      ],
      "metadata": {
        "colab": {
          "base_uri": "https://localhost:8080/"
        },
        "id": "CHqnKU2QAv47",
        "outputId": "730c3c80-01ab-4169-c659-dd1f4b5fa00e"
      },
      "execution_count": 5,
      "outputs": [
        {
          "output_type": "stream",
          "name": "stdout",
          "text": [
            "The length of the list is: 10\n",
            "The elements of the list are : ['H', 'E', 'L', 'L', 'O', 'W', 'O', 'R', 'L', 'D']\n"
          ]
        }
      ]
    },
    {
      "cell_type": "code",
      "source": [
        "print(\"my_list[0:3] = \", my_list[2:]) # slicing a[start: end(not including end)][0:3] 0,1,2\n",
        "print(\"my_list[5:] = \", my_list[5:])  # [start:end]"
      ],
      "metadata": {
        "colab": {
          "base_uri": "https://localhost:8080/"
        },
        "id": "WDQw5kNsBQy7",
        "outputId": "237a73ed-e958-4084-9ba1-49144639cf95"
      },
      "execution_count": 6,
      "outputs": [
        {
          "output_type": "stream",
          "name": "stdout",
          "text": [
            "my_list[0:3] =  ['L', 'L', 'O', 'W', 'O', 'R', 'L', 'D']\n",
            "my_list[5:] =  ['W', 'O', 'R', 'L', 'D']\n"
          ]
        }
      ]
    },
    {
      "cell_type": "code",
      "source": [
        "### DICTIONARY "
      ],
      "metadata": {
        "id": "EwpXKNZABu1a"
      },
      "execution_count": 7,
      "outputs": []
    },
    {
      "cell_type": "code",
      "source": [
        "dictionary = {}\n",
        "for x in range(6):\n",
        "    dictionary[x] = x*x\n",
        "print(dictionary)"
      ],
      "metadata": {
        "colab": {
          "base_uri": "https://localhost:8080/"
        },
        "id": "iGn_YYXFB5Yq",
        "outputId": "62b7cb9c-c23a-4d0f-84db-17c9b2e9b541"
      },
      "execution_count": 8,
      "outputs": [
        {
          "output_type": "stream",
          "name": "stdout",
          "text": [
            "{0: 0, 1: 1, 2: 4, 3: 9, 4: 16, 5: 25}\n"
          ]
        }
      ]
    },
    {
      "cell_type": "code",
      "source": [],
      "metadata": {
        "id": "MCQy2EQ7C9VL"
      },
      "execution_count": null,
      "outputs": []
    },
    {
      "cell_type": "code",
      "source": [
        "keys = ['Ishita','Sanskriti','Sai']\n",
        "values = [4,11,10]\n",
        "resultant_dictionary = dict(zip(keys,values))#zip() -----> use to aggregate two lists\n",
        "print(resultant_dictionary)"
      ],
      "metadata": {
        "colab": {
          "base_uri": "https://localhost:8080/"
        },
        "outputId": "95a00cdc-968e-494d-cea0-80e3ecd2dd18",
        "id": "Fd7aGl9jDU9e"
      },
      "execution_count": 12,
      "outputs": [
        {
          "output_type": "stream",
          "name": "stdout",
          "text": [
            "{'Ishita': 4, 'Sanskriti': 11, 'Sai': 10}\n"
          ]
        }
      ]
    },
    {
      "cell_type": "code",
      "source": [
        "dict1 = {'Apple': 1, 'Banana': 2, 'Carrot': 3}\n",
        "dict2 = {'Mango': 4, 'Guvava': 5, 'Kiwi': 6}\n",
        "dict3 = dict1.copy()\n",
        "dict3.update(dict2)\n",
        "print(dict3)"
      ],
      "metadata": {
        "colab": {
          "base_uri": "https://localhost:8080/"
        },
        "id": "BR_NHQndCi76",
        "outputId": "667a5c26-bffe-4ba8-cb42-5c9480acd0e4"
      },
      "execution_count": 11,
      "outputs": [
        {
          "output_type": "stream",
          "name": "stdout",
          "text": [
            "{'Apple': 1, 'Banana': 2, 'Carrot': 3, 'Mango': 4, 'Guvava': 5, 'Kiwi': 6}\n"
          ]
        }
      ]
    }
  ]
}